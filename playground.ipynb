{
 "cells": [
  {
   "cell_type": "code",
   "execution_count": 1,
   "metadata": {},
   "outputs": [],
   "source": [
    "import requests\n",
    "# !pip install websocket\n",
    "# %pip install websocket-client\n",
    "import websocket "
   ]
  },
  {
   "cell_type": "code",
   "execution_count": 7,
   "metadata": {},
   "outputs": [
    {
     "name": "stderr",
     "output_type": "stream",
     "text": [
      "--- request header ---\n",
      "GET /?token=cvnf3o1r01qq3c7eusp0cvnf3o1r01qq3c7euspg HTTP/1.1\n",
      "Upgrade: websocket\n",
      "Host: ws.finnhub.io\n",
      "Origin: https://ws.finnhub.io\n",
      "Sec-WebSocket-Key: rlx/ve3ut6fbWK/H/AwYrg==\n",
      "Sec-WebSocket-Version: 13\n",
      "Connection: Upgrade\n",
      "\n",
      "\n",
      "-----------------------\n",
      "--- response header ---\n",
      "HTTP/1.1 101 Switching Protocols\n",
      "Server: nginx/1.18.0\n",
      "Date: Sat, 05 Apr 2025 22:29:38 GMT\n",
      "Connection: upgrade\n",
      "Upgrade: websocket\n",
      "Sec-WebSocket-Accept: EeQWKttKUkqs79meLKkbuG3oteo=\n",
      "-----------------------\n",
      "Websocket connected\n",
      "++Sent raw: b\"\\x81\\xa4\\xd75$E\\xac\\x17P<\\xa7P\\x06\\x7f\\xf5FQ'\\xa4VV,\\xb5P\\x06i\\xf5F](\\xb5ZHg\\xed\\x17i\\x16\\x91a\\x068\"\n",
      "++Sent decoded: fin=1 opcode=1 data=b'{\"type\":\"subscribe\",\"symbol\":\"MSFT\"}'\n",
      "++Rcv raw: b'\\x81\\x0f{\"type\":\"ping\"}'\n",
      "++Rcv decoded: fin=1 opcode=1 data=b'{\"type\":\"ping\"}'\n"
     ]
    },
    {
     "name": "stdout",
     "output_type": "stream",
     "text": [
      "{\"type\":\"ping\"}\n"
     ]
    },
    {
     "name": "stderr",
     "output_type": "stream",
     "text": [
      "++Rcv raw: b'\\x81\\x0f{\"type\":\"ping\"}'\n",
      "++Rcv decoded: fin=1 opcode=1 data=b'{\"type\":\"ping\"}'\n"
     ]
    },
    {
     "name": "stdout",
     "output_type": "stream",
     "text": [
      "{\"type\":\"ping\"}\n"
     ]
    },
    {
     "name": "stderr",
     "output_type": "stream",
     "text": [
      "++Rcv raw: b'\\x81\\x0f{\"type\":\"ping\"}'\n",
      "++Rcv decoded: fin=1 opcode=1 data=b'{\"type\":\"ping\"}'\n"
     ]
    },
    {
     "name": "stdout",
     "output_type": "stream",
     "text": [
      "{\"type\":\"ping\"}\n"
     ]
    },
    {
     "name": "stderr",
     "output_type": "stream",
     "text": [
      "++Sent raw: b'\\x88\\x82\\x13\\xd4\\x87B\\x10<'\n",
      "++Sent decoded: fin=1 opcode=8 data=b'\\x03\\xe8'\n",
      "error from callback <function on_close at 0x107c5c430>: on_close() takes 1 positional argument but 3 were given\n",
      "tearing down on exception \n"
     ]
    },
    {
     "name": "stdout",
     "output_type": "stream",
     "text": [
      "\n",
      "on_close() takes 1 positional argument but 3 were given\n"
     ]
    }
   ],
   "source": [
    "finn_hub_api = \"cvnf3o1r01qq3c7eusp0cvnf3o1r01qq3c7euspg\"\n",
    "# import websocket\n",
    "\n",
    "def on_message(ws, message):\n",
    "    print(message)\n",
    "\n",
    "def on_error(ws, error):\n",
    "    print(error)\n",
    "\n",
    "def on_close(ws):\n",
    "    print(\"### closed ###\")\n",
    "\n",
    "def on_open(ws):\n",
    "    # ws.send('{\"type\":\"subscribe\",\"symbol\":\"AAPL\"}')\n",
    "    ws.send('{\"type\":\"subscribe\",\"symbol\":\"MSFT\"}')\n",
    "    # ws.send('{\"type\":\"subscribe\",\"symbol\":\"BINANCE:BTCUSDT\"}')\n",
    "    # ws.send('{\"type\":\"subscribe\",\"symbol\":\"IC MARKETS:1\"}')\n",
    "\n",
    "if __name__ == \"__main__\":\n",
    "    websocket.enableTrace(True)\n",
    "    ws = websocket.WebSocketApp(\"wss://ws.finnhub.io?token=cvnf3o1r01qq3c7eusp0cvnf3o1r01qq3c7euspg\",\n",
    "                              on_message = on_message,\n",
    "                              on_error = on_error,\n",
    "                              on_close = on_close)\n",
    "    ws.on_open = on_open\n",
    "    ws.run_forever()\n",
    "\n",
    "\n",
    "\n"
   ]
  },
  {
   "cell_type": "code",
   "execution_count": 1,
   "metadata": {},
   "outputs": [
    {
     "name": "stdout",
     "output_type": "stream",
     "text": [
      "Requirement already satisfied: websocket-client in /opt/anaconda3/envs/AWS/lib/python3.9/site-packages (1.8.0)\n",
      "Note: you may need to restart the kernel to use updated packages.\n"
     ]
    }
   ],
   "source": [
    "pip install websocket-client"
   ]
  },
  {
   "cell_type": "code",
   "execution_count": 5,
   "metadata": {},
   "outputs": [
    {
     "data": {
      "text/plain": [
       "['WebSocket',\n",
       " '__builtins__',\n",
       " '__cached__',\n",
       " '__doc__',\n",
       " '__file__',\n",
       " '__loader__',\n",
       " '__name__',\n",
       " '__package__',\n",
       " '__path__',\n",
       " '__spec__',\n",
       " '__version__',\n",
       " 'md5',\n",
       " 're',\n",
       " 'struct',\n",
       " 'version_info']"
      ]
     },
     "execution_count": 5,
     "metadata": {},
     "output_type": "execute_result"
    }
   ],
   "source": [
    "dir(websocket)"
   ]
  },
  {
   "cell_type": "code",
   "execution_count": 1,
   "metadata": {},
   "outputs": [
    {
     "name": "stdout",
     "output_type": "stream",
     "text": [
      "\n",
      "Usage:   \n",
      "  /opt/anaconda3/envs/AWS/bin/python -m pip uninstall [options] <package> ...\n",
      "  /opt/anaconda3/envs/AWS/bin/python -m pip uninstall [options] -r <requirements file> ...\n",
      "\n",
      "no such option: -Y\n",
      "Note: you may need to restart the kernel to use updated packages.\n"
     ]
    }
   ],
   "source": [
    "# pip uninstall websocket -Y"
   ]
  },
  {
   "cell_type": "code",
   "execution_count": 2,
   "metadata": {},
   "outputs": [
    {
     "name": "stdout",
     "output_type": "stream",
     "text": [
      "Collecting websocket-client\n",
      "  Using cached websocket_client-1.8.0-py3-none-any.whl.metadata (8.0 kB)\n",
      "Using cached websocket_client-1.8.0-py3-none-any.whl (58 kB)\n",
      "Installing collected packages: websocket-client\n",
      "Successfully installed websocket-client-1.8.0\n",
      "Note: you may need to restart the kernel to use updated packages.\n"
     ]
    }
   ],
   "source": [
    "pip install websocket-client\n"
   ]
  },
  {
   "cell_type": "code",
   "execution_count": null,
   "metadata": {},
   "outputs": [],
   "source": []
  },
  {
   "cell_type": "code",
   "execution_count": null,
   "metadata": {},
   "outputs": [],
   "source": []
  }
 ],
 "metadata": {
  "kernelspec": {
   "display_name": "Python 3 (ipykernel)",
   "language": "python",
   "name": "python3"
  },
  "language_info": {
   "codemirror_mode": {
    "name": "ipython",
    "version": 3
   },
   "file_extension": ".py",
   "mimetype": "text/x-python",
   "name": "python",
   "nbconvert_exporter": "python",
   "pygments_lexer": "ipython3",
   "version": "3.9.21"
  }
 },
 "nbformat": 4,
 "nbformat_minor": 4
}
